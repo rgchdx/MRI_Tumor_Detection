{
 "cells": [
  {
   "cell_type": "code",
   "execution_count": null,
   "id": "a1250975",
   "metadata": {},
   "outputs": [
    {
     "ename": "SyntaxError",
     "evalue": "invalid syntax (1695741726.py, line 1)",
     "output_type": "error",
     "traceback": [
      "  \u001b[36mCell\u001b[39m\u001b[36m \u001b[39m\u001b[32mIn[4]\u001b[39m\u001b[32m, line 1\u001b[39m\n\u001b[31m    \u001b[39m\u001b[31mpip install fastapi\u001b[39m\n        ^\n\u001b[31mSyntaxError\u001b[39m\u001b[31m:\u001b[39m invalid syntax\n"
     ]
    }
   ],
   "source": [
    "pip install fastapi\n",
    "pip install opencv-python\n",
    "pip install Pillow\n",
    "pip install timm\n",
    "pip install python-multipart\n",
    "pip install uvicorn\n",
    "pip install nest-asyncio\n",
    "pip install pyngrok"
   ]
  },
  {
   "cell_type": "code",
   "execution_count": 1,
   "id": "2892528d",
   "metadata": {},
   "outputs": [],
   "source": [
    "from typing import List\n",
    "\n",
    "from fastapi import FastAPI, File, UploadFile\n",
    "from fastapi.responses import HTMLResponse, StreamingResponse\n",
    "\n",
    "import pickle\n",
    "import cv2\n",
    "import io\n",
    "import numpy as np\n",
    "\n",
    "import os\n",
    "\n",
    "import torch\n",
    "import cv2\n",
    "from PIL import Image\n",
    "\n",
    "import matplotlib.pyplot as plt\n",
    "from matplotlib.backends.backend_agg import FigureCanvasAgg as FigureCanvas\n",
    "from matplotlib.figure import Figure"
   ]
  },
  {
   "cell_type": "code",
   "execution_count": 2,
   "id": "e64a00d1",
   "metadata": {},
   "outputs": [],
   "source": [
    "user_dir = os.getcwd()\n",
    "user_dir\n",
    "file = 'model.pkl'\n",
    "model_path = os.path.join(user_dir, file)\n"
   ]
  },
  {
   "cell_type": "code",
   "execution_count": 7,
   "id": "6e58b104",
   "metadata": {},
   "outputs": [],
   "source": [
    "from torch import nn\n",
    "class MRIClassifer(nn.Module):\n",
    "    def __init__(self, num_classes=53):\n",
    "        super(MRIClassifer, self).__init__()\n",
    "        # Where we define all the parts of the model\n",
    "        self.base_model = timm.create_model('efficientnet_b0', pretrained=True)\n",
    "        self.features = nn.Sequential(*list(self.base_model.children())[:-1])\n",
    "\n",
    "        enet_out_size = 1280\n",
    "        # Make a classifier\n",
    "        self.classifier = nn.Sequential(\n",
    "            nn.Flatten(),\n",
    "            nn.Linear(enet_out_size, num_classes)\n",
    "        )\n",
    "    \n",
    "    def forward(self, x):\n",
    "        # Connect these parts and return the output\n",
    "        x = self.features(x)\n",
    "        output = self.classifier(x)\n",
    "        return output\n",
    "\n",
    "def preprocess(image):\n",
    "    transform = transforms.Compose([\n",
    "        transforms.Resize((128, 128)),\n",
    "        transforms.PILToTensor(),\n",
    "    ])\n",
    "    return transform(image)\n",
    "\n",
    "\n",
    "model_pkl = open(model_path, 'rb')\n",
    "model = pickle.load(model_pkl)\n",
    "model_pkl.close()"
   ]
  },
  {
   "cell_type": "code",
   "execution_count": 13,
   "id": "298ea3c9",
   "metadata": {},
   "outputs": [],
   "source": [
    "device = torch.device('cpu')"
   ]
  },
  {
   "cell_type": "code",
   "execution_count": null,
   "id": "6992f670",
   "metadata": {},
   "outputs": [],
   "source": [
    "app = FastAPI()\n",
    "\n",
    "@app.post(\"/uploadfiles/\")\n",
    "async def create_upload_files(files: List[UploadFile] = File(...)):\n",
    "    # Return preprocessed input batch and loaded image\n",
    "        original_image, image_tensor = pre_process_image(image, transform)\n",
    "\n",
    "        # Run the model and postpocess the output\n",
    "        prediction = predict(model, image_tensor, device)\n",
    "\n",
    "        # # Post process and stitch together the two images to return them\n",
    "        \n",
    "            \n",
    "        return prediction"
   ]
  },
  {
   "cell_type": "code",
   "execution_count": null,
   "id": "7c10f221",
   "metadata": {},
   "outputs": [],
   "source": [
    "auth_token = \"\" #@param {type:\"string\"}\n",
    "# This tutorial uses ngrok to deploy the website, we probably wont do that, but here is the code in case we do.\n",
    "\n",
    "# Authenticate ngrok\n",
    "# https://dashboard.ngrok.com/signup\n",
    "# Then go to the \"Your Authtoken\" tab in the sidebar and copy the API key\n",
    "import os\n",
    "os.system(f\"ngrok authtoken {auth_token}\")"
   ]
  },
  {
   "cell_type": "code",
   "execution_count": null,
   "id": "1389e774",
   "metadata": {},
   "outputs": [],
   "source": [
    "from pyngrok import ngrok\n",
    "\n",
    "# Create tunnel\n",
    "public_url = ngrok.connect(8000, port='8000', bind_tls=True)"
   ]
  },
  {
   "cell_type": "code",
   "execution_count": 15,
   "id": "c3732546",
   "metadata": {},
   "outputs": [
    {
     "name": "stderr",
     "output_type": "stream",
     "text": [
      "INFO:     Started server process [74356]\n",
      "INFO:     Waiting for application startup.\n",
      "INFO:     Application startup complete.\n",
      "INFO:     Uvicorn running on http://127.0.0.1:8000 (Press CTRL+C to quit)\n"
     ]
    },
    {
     "name": "stdout",
     "output_type": "stream",
     "text": [
      "INFO:     127.0.0.1:61321 - \"GET / HTTP/1.1\" 404 Not Found\n",
      "INFO:     127.0.0.1:61321 - \"GET /favicon.ico HTTP/1.1\" 404 Not Found\n"
     ]
    },
    {
     "name": "stderr",
     "output_type": "stream",
     "text": [
      "INFO:     Shutting down\n",
      "INFO:     Waiting for application shutdown.\n",
      "INFO:     Application shutdown complete.\n",
      "INFO:     Finished server process [74356]\n"
     ]
    }
   ],
   "source": [
    "import nest_asyncio\n",
    "\n",
    "# Allow for asyncio to work within the Jupyter notebook cell\n",
    "nest_asyncio.apply()\n",
    "\n",
    "import uvicorn\n",
    "\n",
    "# Run the FastAPI app using uvicorn\n",
    "uvicorn.run(app)"
   ]
  }
 ],
 "metadata": {
  "kernelspec": {
   "display_name": "Python 3",
   "language": "python",
   "name": "python3"
  },
  "language_info": {
   "codemirror_mode": {
    "name": "ipython",
    "version": 3
   },
   "file_extension": ".py",
   "mimetype": "text/x-python",
   "name": "python",
   "nbconvert_exporter": "python",
   "pygments_lexer": "ipython3",
   "version": "3.13.1"
  }
 },
 "nbformat": 4,
 "nbformat_minor": 5
}
